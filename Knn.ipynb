{
 "cells": [
  {
   "cell_type": "markdown",
   "id": "97b26032-d7d2-485b-bfd0-40b6e1bdedc7",
   "metadata": {},
   "source": [
    "## K nearest neighbors\n",
    "\n",
    "<p>Le principe initial du knn est qu'il identifie les k échantillons les plus proches d'une nouvelle donnée grâce à l'espace de caractéristiques, puis attribue une étiquette basée sur un vote majoritaire ou une moyenne.<br>\n",
    "Dans notre cas le travail avec des images nécessite de créer une forme qui permettra à notre algorithme de travailler avec.<p>\n",
    "Pour procéder à cette identification, nous avons decidé d'appliquer certains paramètres :\n",
    "\n",
    "* Redimensionnement : Les images sont redimensionnées pour avoir des dimensions uniformes.\n",
    "* Flatten : Les images, qui sont initialement en format matriciel, sont transformées en vecteurs de caractéristiques unidimensionnels.\n",
    "* Normalisation : Les valeurs des pixels sont souvent normalisées pour faciliter les calculs et améliorer les performances de l'algorithme.\n",
    "* Le cropping/découpe : Découper l'image en question pour n'avoir que la partie qui nous intéresse.\n",
    "\n",
    "### Loading the pictures\n",
    "Avant toute chose, il y a eu une mise en place un wrapper timing_function qui permettra d'éstimer le temps d'éstimer le temps nécessaire pour chaque fonction.\n",
    "Pour ce faire, nous allons procéder à un chargement des images à partir de nos dossiers.\n"
   ]
  },
  {
   "cell_type": "code",
   "id": "040347d5-e11f-44bc-bcc2-3cfffb8b208c",
   "metadata": {
    "ExecuteTime": {
     "end_time": "2024-07-07T22:45:16.770236Z",
     "start_time": "2024-07-07T22:44:42.169728Z"
    }
   },
   "source": [
    "import os\n",
    "from PIL import Image\n",
    "import numpy as np\n",
    "from sklearn.neighbors import KNeighborsClassifier\n",
    "from sklearn.model_selection import train_test_split\n",
    "from sklearn.metrics import classification_report\n",
    "from sklearn.preprocessing import MinMaxScaler\n",
    "import csv\n",
    "import cv2\n",
    "import pandas as pd\n",
    "\n",
    "import time\n",
    "import matplotlib.pyplot as plt\n",
    "\n",
    "#directories\n",
    "train_normal_dir = 'train/NORMAL'\n",
    "test_normal_dir = 'test/NORMAL'\n",
    "train_pneumonia_dir = 'train/PNEUMONIA'\n",
    "test_pneumonia_dir = 'test/PNEUMONIA'\n",
    "\n",
    "\n",
    "def timing_function(func):\n",
    "    \"\"\"Gives the time taken to execute a function.\n",
    "    :param func: Function to be executed on.\"\"\"\n",
    "\n",
    "    def wrapper(*args, **kwargs):\n",
    "        start = time.time()\n",
    "        result = func(*args, **kwargs)\n",
    "        end = time.time()\n",
    "        print(f\"{func.__name__} took {end - start:.2f} seconds\")\n",
    "        return result\n",
    "\n",
    "    return wrapper\n",
    "\n",
    "\n",
    "def crop_lungs_from_image(img):\n",
    "    \"\"\"Crops only lungs image from image.\n",
    "    :param img: image to be cropped.\n",
    "    :returns: cropped image.\"\"\"\n",
    "    img_cv = np.array(img)\n",
    "    _, thresh = cv2.threshold(img_cv, 15, 255, cv2.THRESH_BINARY)\n",
    "    contours, _ = cv2.findContours(thresh, cv2.RETR_EXTERNAL, cv2.CHAIN_APPROX_SIMPLE)\n",
    "    largest_contour = max(contours, key=cv2.contourArea)\n",
    "    x, y, w, h = cv2.boundingRect(largest_contour)\n",
    "    cropped_img_cv = img_cv[y:y + h, x:x + w]\n",
    "    cropped_img = Image.fromarray(cropped_img_cv)\n",
    "    return cropped_img\n",
    "\n",
    "\n",
    "@timing_function\n",
    "def load_images_from_folder(folder, label, size):\n",
    "    \"\"\"Loads images from folder.\n",
    "    :param folder : containing images to be loaded.\n",
    "    :param label: label of images to be loaded.\n",
    "    :param size: size of images to be loaded.\n",
    "    :returns: images: loaded images\n",
    "    :returns: labels: loaded labels.\"\"\"\n",
    "    images = []\n",
    "    labels = []\n",
    "    for filename in os.listdir(folder):\n",
    "        img_path = os.path.join(folder, filename)\n",
    "        with Image.open(img_path) as img:\n",
    "            # Greyish colors = L, Normal colors = P\n",
    "            img = img.convert('L')\n",
    "            # Cropping\n",
    "            img = crop_lungs_from_image(img)\n",
    "            # Resizing\n",
    "            img = img.resize((size, size))\n",
    "            img_array = np.array(img)\n",
    "            # Normalization\n",
    "            scaler = MinMaxScaler(feature_range=(0, 1))\n",
    "            img_array = scaler.fit_transform(img_array.reshape(-1, 1))\n",
    "            images.append(img_array.flatten())\n",
    "            labels.append(label)\n",
    "\n",
    "    return images, labels\n",
    "\n",
    "\n",
    "def process_new_image(image_path):\n",
    "    \"\"\"Processes new image.\n",
    "    :param image_path: path to image to be processed.\n",
    "    :returns: processed image.\"\"\"\n",
    "    size = 68\n",
    "    with Image.open(image_path) as img:\n",
    "        img = img.convert('L')\n",
    "        img = crop_lungs_from_image(img)\n",
    "        img = img.resize((size, size))\n",
    "        img_array = np.array(img)\n",
    "        scaler = MinMaxScaler(feature_range=(0, 1))\n",
    "        img_array = scaler.fit_transform(img_array.reshape(-1, 1))\n",
    "        img_array = img_array.flatten()\n",
    "        return img_array.flatten()\n",
    "\n",
    "\n",
    "# train\n",
    "print(\"Loading images for normal data\")\n",
    "start_time = time.time()\n",
    "normal_images, normal_labels = load_images_from_folder(train_normal_dir, 0, 68)\n",
    "print(\"Loading images for pneumonia data\")\n",
    "pneumonia_images, pneumonia_labels = load_images_from_folder(train_pneumonia_dir, 1, 68)\n",
    "x_train = normal_images + pneumonia_images\n",
    "y_train = normal_labels + pneumonia_labels\n",
    "load_train_time = time.time() - start_time\n",
    "\n",
    "# testing\n",
    "start_time = time.time()\n",
    "print(\"Loading images for normal data\")\n",
    "normal_test_images, normal_test_labels = load_images_from_folder(test_normal_dir, 0, 68)\n",
    "print(\"Loading images for pneumonia data\")\n",
    "pneumonia_test_images, pneumonia_test_labels = load_images_from_folder(test_pneumonia_dir, 1, 68)\n",
    "x_test = normal_test_images + pneumonia_test_images\n",
    "y_test = normal_test_labels + pneumonia_test_labels\n",
    "load_test_time = time.time() - start_time"
   ],
   "outputs": [
    {
     "name": "stdout",
     "output_type": "stream",
     "text": [
      "Loading images for normal data\n",
      "load_images_from_folder took 17.27 seconds\n",
      "Loading images for pneumonia data\n",
      "load_images_from_folder took 13.00 seconds\n",
      "Loading images for normal data\n",
      "load_images_from_folder took 2.77 seconds\n",
      "Loading images for pneumonia data\n",
      "load_images_from_folder took 1.13 seconds\n"
     ]
    }
   ],
   "execution_count": 1
  },
  {
   "cell_type": "markdown",
   "id": "7c729b5a44acaaa9",
   "metadata": {},
   "source": [
    "<p> De cette manière, nous avons mis en place le processus de chargement de l'image que nous voulions. <br>\n",
    " Au cours des tests, nous avons remarqué que les jeux de données n'étaient pas équilibrés et que cela faussait les résultats. Il y avait beaucoup trop de jeu d'entrainement et pas assez de données de test. J'ai donc décidé de séparer le tout en 70 % de tests, 15% de validation et 15% de tests. De plus j'ai essayé d'équilibrer les jeux pour qu'on puisse avoir des proportions similaires. <p>\n",
    "(Je n'étais pas sûr si nous devions intégrer un jeu de validation pour les hyper-paramètres, mais je l'ai tout de même fait vu que c'était demandé dans le sujet, si c'est faux je vous demanderais de pas en tenir rigueur)"
   ]
  },
  {
   "cell_type": "code",
   "id": "685e7d41873c3b0b",
   "metadata": {
    "ExecuteTime": {
     "end_time": "2024-07-07T22:45:41.049837Z",
     "start_time": "2024-07-07T22:45:41.046318Z"
    }
   },
   "source": [
    "from k_nearest_neighbors import report_data_distribution\n",
    "\n",
    "\n",
    "def load_and_split_data(train_normal_path, train_pneumonia_path, virus_bacteria='false'):\n",
    "    \"\"\"\n",
    "    :param train_normal_path: path to normal images folder.\n",
    "    :param train_pneumonia_path: path to pneumonia images folder.\n",
    "    :return: x_train, x_test, y_train, y_test.\n",
    "    \"\"\"\n",
    "    size = 68\n",
    "    print(\"Loading images for train normal data\")\n",
    "    normal_images, normal_labels = load_images_from_folder(train_normal_path, 0, size)\n",
    "    if virus_bacteria != 'false':\n",
    "        print(\"Loading bacteria images for train pneumonia data\")\n",
    "        pneumonia_bacteria_images, pneumonia_bacteria_labels = load_images_from_folder(train_pneumonia_path, 1, size)\n",
    "\n",
    "    else:\n",
    "        print(\"Loading images for train pneumonia data\")\n",
    "        pneumonia_images, pneumonia_labels = load_images_from_folder(train_pneumonia_path, 1, size)\n",
    "    x = normal_images + pneumonia_images\n",
    "    print(f\"Training data: {len(x)} samples\")\n",
    "\n",
    "    y = normal_labels + pneumonia_labels\n",
    "    # splitting the number of train images\n",
    "    x_train, x_temp, y_train, y_temp = train_test_split(x, y, test_size=0.2,\n",
    "                                                        random_state=42)\n",
    "    # adding the splitted images into the validation and test set\n",
    "    x_val, x_test, y_val, y_test = train_test_split(x_temp, y_temp, test_size=0.5,\n",
    "                                                    random_state=42)\n",
    "    print(\"Loading images for test normal data\")\n",
    "    normal_test_images, normal_test_labels = load_images_from_folder(test_normal_dir, 0, size)\n",
    "    print(\"Loading images for test pneumonia data\")\n",
    "    pneumonia_test_images, pneumonia_test_labels = load_images_from_folder(test_pneumonia_dir, 1, size)\n",
    "    print(\n",
    "        f\"Testing data: We have {len(pneumonia_test_images)} pneumonia samples, {len(normal_test_images)}\"\n",
    "        f\" normal samples, for a total of {len(x_test)} samples\")\n",
    "    x_test = x_test + normal_test_images + pneumonia_test_images\n",
    "    print(f\"Testing data: {len(x_test)} samples\")\n",
    "    y_test = y_test + normal_test_labels + pneumonia_test_labels\n",
    "    report_data_distribution(x_train, x_val, x_test)\n",
    "    return x_train, x_test, y_train, y_test, x_val, y_val,\n"
   ],
   "outputs": [],
   "execution_count": 2
  },
  {
   "cell_type": "markdown",
   "id": "b03bae8b-3db9-4846-bc90-03632cd682b6",
   "metadata": {},
   "source": [
    "Une fois finis, nous pouvons passer à l'étape suivante qui nous permettra de définir les hyperparamétres clés \n",
    "### Hyperparamètres\n",
    " * weights : \n",
    "    * uniform : Tous les voisins auront le même poids.\n",
    "    * distance : Les voisins les plus proches auront un poids supérieur à ceux les plus éloignés.\n",
    " * n_neighbors: Le nombre de voisins que nous allons prendre en compte\n",
    "* algorithm: Le type d'algorithmes que nous allons utiliser\n",
    "   * ball_tree\n",
    "    * kd_tree\n",
    "\n",
    "La majorité des informations sont recensées directement sur la page Scikit learn [documentation](https://scikit-learn.org/stable/modules/generated/sklearn.neighbors.KNeighborsClassifier.html)\n",
    "Pour trouver rapidement les hyperparametres nous allons passer par de la cross-validation. Cette méthode d'évaluation des performances des modèles permet de s'assurer de leur capacité à généraliser sur de nouvelles données. Elle consiste à diviser le jeu de données en plusieurs sous-ensembles ou \"folds\". Ensuite, le modèle est entraîné sur tous les sous-ensembles sauf un, utilisé pour la validation, et ce processus est répété de sorte que chaque sous-ensemble soit utilisé une fois comme données de validation. Les résultats de chaque itération sont combinés pour fournir une estimation globale de la performance du modèle. Cette technique est particulièrement utile pour réduire le risque de surajustement, assurant que le modèle performe bien non seulement sur les données d'entraînement mais aussi sur des données non vues auparavant.\n",
    "\n",
    "### La cross validation\n",
    "<p> On va chercher les meilleurs hyper-paramétres pour la méthode knn. Pour ce faire on va utiliser la validation croisée. Une fois les paramétres identifiés nous pourrons utiliser la meilleure combinaison et effectuer les tests.\n",
    "\n",
    "    cv = StratifiedKFold(n_splits=5, shuffle=True, random_state=42)\n",
    "    n_splits c'est le nombre de tentatives differents pour chaque combinaison d'hyperparemtres\n",
    "    shuffle permet la mélange du jeu de données\n",
    "    \n",
    "    grid_search = GridSearchCV(knn, param_grid, scoring='accuracy', cv=cv, verbose=3, n_jobs=-1)\n",
    "    Knn not type de modéle \n",
    "    scoring nous permets de spécifier quel param on cherche un priorité\n",
    "    verbose nous donne tous les détails, pratique pour voir l'avancée\n",
    "    n_jobs détermine le nombre de jobs en paralléle. -1 étant le max qu'on puisse donner\n",
    "    \n",
    "\n"
   ]
  },
  {
   "cell_type": "code",
   "id": "adf72f2cdc427591",
   "metadata": {
    "ExecuteTime": {
     "end_time": "2024-07-08T00:11:57.899330Z",
     "start_time": "2024-07-07T23:23:01.009471Z"
    }
   },
   "source": [
    "from sklearn.metrics import accuracy_score\n",
    "from sklearn.model_selection import train_test_split, StratifiedKFold, GridSearchCV\n",
    "\n",
    "@timing_function\n",
    "def cross_validation():\n",
    "    size = 68\n",
    "    normal_images, normal_labels = load_images_from_folder(train_normal_dir, 0, size)\n",
    "    pneumonia_images, pneumonia_labels = load_images_from_folder(train_pneumonia_dir, 1, size)\n",
    "    x = normal_images + pneumonia_images\n",
    "    y = normal_labels + pneumonia_labels\n",
    "\n",
    "    # Split into train+val and test initially\n",
    "    x_train_val, x_test, y_train_val, y_test = train_test_split(x, y, test_size=0.20, stratify=y, random_state=42)\n",
    "    param_grid = {'n_neighbors': [1, 3, 5, 7, 9, 11, 13, 15, 17],\n",
    "                  'weights': ['uniform', 'distance'],\n",
    "                  'algorithm': ['auto', 'ball_tree', 'kd_tree', 'brute'],\n",
    "                  'metric': ['euclidean', 'manhattan']}\n",
    "\n",
    "    cv = StratifiedKFold(n_splits=5, shuffle=True, random_state=42)\n",
    "    knn = KNeighborsClassifier()\n",
    "    print(\"About to start grid search\")\n",
    "    grid_search = GridSearchCV(knn, param_grid, scoring='accuracy', cv=cv, verbose=2, n_jobs=-1)\n",
    "    grid_search.fit(x_train_val, y_train_val)\n",
    "    print(\"Best parameters found: \", grid_search.best_params_)\n",
    "    best_knn = grid_search.best_estimator_\n",
    "\n",
    "    y_test_pred = best_knn.predict(x_test)\n",
    "    test_accuracy = accuracy_score(y_test, y_test_pred)\n",
    "    print(f\"Test Accuracy: {test_accuracy:.2f}\")\n",
    "    report = classification_report(y_test, y_test_pred, target_names=['Normal', 'Pneumonia'])\n",
    "    print(report)\n",
    "    plot_roc_curve(best_knn, x_test, y_test)\n",
    "    return best_knn\n",
    "\n",
    "\n",
    "best_knn = cross_validation()"
   ],
   "outputs": [
    {
     "name": "stdout",
     "output_type": "stream",
     "text": [
      "load_images_from_folder took 17.55 seconds\n",
      "load_images_from_folder took 13.75 seconds\n",
      "About to start grid search\n",
      "Fitting 5 folds for each of 144 candidates, totalling 720 fits\n",
      "Best parameters found:  {'algorithm': 'auto', 'metric': 'manhattan', 'n_neighbors': 15, 'weights': 'uniform'}\n",
      "Test Accuracy: 0.95\n",
      "              precision    recall  f1-score   support\n",
      "\n",
      "      Normal       0.95      0.85      0.90       268\n",
      "   Pneumonia       0.95      0.99      0.97       776\n",
      "\n",
      "    accuracy                           0.95      1044\n",
      "   macro avg       0.95      0.92      0.93      1044\n",
      "weighted avg       0.95      0.95      0.95      1044\n",
      "\n"
     ]
    },
    {
     "data": {
      "text/plain": [
       "<matplotlib.figure.Figure at 0x7f7ef35854e0>"
      ],
      "image/png": "[encoded data removed]"
     },
     "metadata": {
      "needs_background": "light"
     },
     "output_type": "display_data"
    },
    {
     "name": "stdout",
     "output_type": "stream",
     "text": [
      "cross_validation took 2936.88 seconds\n"
     ]
    }
   ],
   "execution_count": 20
  },
  {
   "cell_type": "markdown",
   "id": "1c5b048b-9aa7-48de-a269-ccd81815ca3b",
   "metadata": {},
   "source": [
    "Ce qui va nous donner:\n",
    "Best parameters found:  {'algorithm': 'auto', 'metric': 'manhattan', 'n_neighbors': 15, 'weights': 'uniform'}\n",
    "Test Accuracy: 0.95\n",
    "   \n",
    "                 precision    recall  f1-score   support \n",
    "\n",
    "    Normal          0.95      0.85      0.90       268 \n",
    "    Pneumonia       0.95      0.99      0.97       776 \n",
    "\n",
    "    accuracy                            0.95      1044 \n",
    "    macro avg       0.95      0.92      0.93      1044 \n",
    "    weighted avg    0.95      0.95      0.95      1044 \n",
    "    [Time per function]cross_validation took 2879.00 seconds \n",
    "Jupiter notebook n'est pas vraiment compatible avec jupyter notebook :https://github.com/scikit-learn/scikit-learn/issues/22849 \n",
    "\n",
    "(Si besoin le fichier Metrics/cross_validation contient les logs de la crossvalidation quand elle a tourné sur ma machine)\n",
    "<p>On pourra en conclure que l'on a plûtot une bonne précision avec le knn. Les résultats de votre validation croisée indiquent que le modèle KNN optimal, utilisant l'algorithme 'auto' avec la métrique de distance 'manhattan' et 15 voisins, a atteint une précision globale impressionnante de 95% sur le jeu de test. Pour les classes spécifiques, il montre une précision et un rappel élevés pour la classe 'Pneumonia', ce qui suggère une excellente capacité à identifier correctement ces cas.<br>\n",
    "Maintenant que nous avons nos hyperparamètres, nous pouvons directement appeler le \"best_knn\" et l'utiliser pour le jeu de test. (Je ne le fais pas à cause du rapport, mais en dessous, il y aura l'algo non compilé disponible si besoin). Si on devait refaire le modéle avec les bons paramètres, il ressemblerait à cela : <p>\n"
   ]
  },
  {
   "cell_type": "code",
   "id": "d5d71312-8d16-41ec-a127-756d30df3f3a",
   "metadata": {
    "ExecuteTime": {
     "end_time": "2024-07-08T00:13:12.966077Z",
     "start_time": "2024-07-08T00:13:12.894299Z"
    }
   },
   "source": [
    "@timing_function\n",
    "def train_model(x_train_value, y_train_value):\n",
    "    print(\"Starting training model\")\n",
    "    model = KNeighborsClassifier(algorithm= 'auto', metric= 'manhattan', n_neighbors= 15, weights= 'uniform')\n",
    "    model.fit(x_train_value, y_train_value)\n",
    "    print(\"Finished training model\")\n",
    "    return model\n",
    "\n",
    "knn = train_model(x_train, y_train)\n"
   ],
   "outputs": [
    {
     "name": "stdout",
     "output_type": "stream",
     "text": [
      "Starting training model\n",
      "Finished training model\n",
      "train_model took 0.07 seconds\n"
     ]
    }
   ],
   "execution_count": 22
  },
  {
   "cell_type": "markdown",
   "id": "6d257a2d909fdee0",
   "metadata": {},
   "source": [
    "Par la suite nous allons faire ajouter des metrics pour voir si notre algorithme est bon: \n",
    "### La courbe de ROC\n",
    "Elle représente graphiquement le taux de vrais positifs en fonction du taux de faux positifs. Plus l'aire sous la courbe tend vers 1 et plus elle est précise. "
   ]
  },
  {
   "cell_type": "code",
   "id": "374d2da5321335bb",
   "metadata": {
    "ExecuteTime": {
     "end_time": "2024-07-08T00:14:00.899555Z",
     "start_time": "2024-07-08T00:13:55.618513Z"
    }
   },
   "source": [
    "from sklearn.metrics import roc_curve, auc\n",
    "\n",
    "\n",
    "def plot_roc_curve(model, x_test, y_test):\n",
    "    y_probs = model.predict_proba(x_test)[:, 1]\n",
    "    fpr, tpr, _ = roc_curve(y_test, y_probs)\n",
    "    roc_auc = auc(fpr, tpr)\n",
    "    plt.figure()\n",
    "    plt.plot(fpr, tpr, color='darkorange',\n",
    "             lw=2, label='ROC curve (area = %0.2f)' % roc_auc)\n",
    "    plt.plot([0, 1], [0, 1], color='navy', lw=2, linestyle='--')\n",
    "    plt.xlim([0.0, 1.0])\n",
    "    plt.ylim([0.0, 1.05])\n",
    "    plt.xlabel('Taux de Faux Positifs')\n",
    "    plt.ylabel('Taux de Vrai Positifs')\n",
    "    plt.title('Caractéristiques de la courbe ROC')\n",
    "    plt.legend(loc=\"lower right\")\n",
    "    plt.show()\n",
    " \n",
    " \n",
    "plot_roc_curve(best_knn, x_test, y_test)\n"
   ],
   "outputs": [
    {
     "data": {
      "text/plain": [
       "<matplotlib.figure.Figure at 0x7f7ef3324588>"
      ],
      "image/png": "[encoded data removed]"
     },
     "metadata": {
      "needs_background": "light"
     },
     "output_type": "display_data"
    }
   ],
   "execution_count": 25
  },
  {
   "cell_type": "markdown",
   "id": "29f54cd6f401787",
   "metadata": {},
   "source": [
    "La courbe de roc nous montre que notre méthode est efficace et loin du hasard qui est représenté par la ligne bleue. La surface recouverte étant proche de 1 indique une très bonne efficacité aussi. <br>\n",
    "Une fois la courbe de ROC dessinée, nous allons pouvoir passer à notre jeu de tests et utiliser notre modèle dessus en espérant avoir de bons résultats. <br>\n",
    "On va afficher par la même occasion notre matrice de confusion pour voir les taux que l'on obtient. Il est important de ne pas avoir trop de faux-positifs et faux négatifs sinon cela signifie que l'on a un problème avec nos données. "
   ]
  },
  {
   "cell_type": "code",
   "id": "8408b2c7f037a83b",
   "metadata": {
    "ExecuteTime": {
     "end_time": "2024-07-07T23:11:07.779021Z",
     "start_time": "2024-07-07T23:10:53.957458Z"
    }
   },
   "source": [
    "from sklearn.metrics import confusion_matrix\n",
    "\n",
    "\n",
    "def plot_confusion_matrix(y_true, y_pred, classes, normalize=False, title='Confusion matrix', cmap=plt.cm.Blues):\n",
    "    cm = confusion_matrix(y_true, y_pred)\n",
    "    if normalize:\n",
    "        cm = cm.astype('float') / cm.sum(axis=1)[:, np.newaxis]\n",
    "        print(\"Normalized confusion matrix\")\n",
    "    else:\n",
    "        print('Confusion matrix, without normalization')\n",
    "    plt.imshow(cm, interpolation='nearest', cmap=cmap)\n",
    "    plt.title(title)\n",
    "    plt.colorbar()\n",
    "    tick_marks = np.arange(len(classes))\n",
    "    plt.xticks(tick_marks, classes, rotation=45)\n",
    "    plt.yticks(tick_marks, classes)\n",
    "    fmt = '.2f' if normalize else 'd'\n",
    "    thresh = cm.max() / 2.\n",
    "    for i, j in np.ndindex(cm.shape):\n",
    "        plt.text(j, i, format(cm[i, j], fmt),\n",
    "                 horizontalalignment=\"center\",\n",
    "                 color=\"white\" if cm[i, j] > thresh else \"black\")\n",
    "    plt.ylabel('True label')\n",
    "    plt.xlabel('Predicted label')\n",
    "    plt.tight_layout()\n",
    "    \n",
    "    \n",
    "def test_predict_model(model, x_test_value, y_test_value):\n",
    "    print(\"Starting test model\")\n",
    "    accuracy = model.score(x_test_value, y_test_value)\n",
    "    print(f'Test Accuracy: {accuracy:.2f}')\n",
    "    # Predict test dataset\n",
    "    y_pred = model.predict(x_test_value)\n",
    "    report = classification_report(y_test_value, y_pred, target_names=['Normal', 'Pneumonia'], output_dict=True)\n",
    "    plot_confusion_matrix(y_test_value, y_pred, classes=np.array(['Normal', 'Pneumonia']), normalize=True)\n",
    "    plt.show()\n",
    "\n",
    "    print(report)\n",
    "    print(\"Finished test model\")\n",
    "    return accuracy, report\n",
    "\n",
    "accuracy, report = test_predict_model(best_knn, x_test, y_test)\n",
    "print(accuracy, report)"
   ],
   "outputs": [
    {
     "name": "stdout",
     "output_type": "stream",
     "text": [
      "Starting test model\n",
      "Test Accuracy: 0.77\n",
      "Normalized confusion matrix\n"
     ]
    },
    {
     "data": {
      "text/plain": [
       "<matplotlib.figure.Figure at 0x7f7f388b62b0>"
      ],
      "image/png": "[encoded data removed]"
     },
     "metadata": {
      "needs_background": "light"
     },
     "output_type": "display_data"
    },
    {
     "name": "stdout",
     "output_type": "stream",
     "text": [
      "{'Normal': {'precision': 0.9423076923076923, 'recall': 0.4188034188034188, 'f1-score': 0.5798816568047337, 'support': 234}, 'Pneumonia': {'precision': 0.7384615384615385, 'recall': 0.9846153846153847, 'f1-score': 0.843956043956044, 'support': 390}, 'accuracy': 0.7724358974358975, 'macro avg': {'precision': 0.8403846153846154, 'recall': 0.7017094017094018, 'f1-score': 0.7119188503803888, 'support': 624}, 'weighted avg': {'precision': 0.8149038461538461, 'recall': 0.7724358974358975, 'f1-score': 0.7449281487743027, 'support': 624}}\n",
      "Finished test model\n",
      "0.772435897436 {'Normal': {'precision': 0.9423076923076923, 'recall': 0.4188034188034188, 'f1-score': 0.5798816568047337, 'support': 234}, 'Pneumonia': {'precision': 0.7384615384615385, 'recall': 0.9846153846153847, 'f1-score': 0.843956043956044, 'support': 390}, 'accuracy': 0.7724358974358975, 'macro avg': {'precision': 0.8403846153846154, 'recall': 0.7017094017094018, 'f1-score': 0.7119188503803888, 'support': 624}, 'weighted avg': {'precision': 0.8149038461538461, 'recall': 0.7724358974358975, 'f1-score': 0.7449281487743027, 'support': 624}}\n"
     ]
    }
   ],
   "execution_count": 17
  },
  {
   "cell_type": "markdown",
   "id": "7b0be70d771a2fdf",
   "metadata": {},
   "source": [
    "Techniquement à cette étape, nous avons de travailler avec le modèle en question. Il ne nous reste plus qu'à analyser les résultats. <br>\n",
    "### Notes personelles: \n",
    "Nous avons remarqué que pour avoir une bonne précision des cas de pneumonie, il valait mieux avoir plus de cas de pneumonie que de cas normaux. De cette façon le modèle est bien plus entrainé et responds au besoin de bien identifier les cas de pneumonie.<br>\n",
    "Nous avons aussi tenté d'évaluer l'impact de la taille en pixel d'une image et qu'au bout de 68 pixels nous avions une taille stable infuant très peu sur les résultats.\n",
    "Les résultats sont faussés à cause du jeu de données et une meilleure optimisation de celui-ci permettrait d'avoir une bien meilleure précision comme celle obtenue lors de la cross-validation."
   ]
  },
  {
   "cell_type": "code",
   "id": "d75910a9-8ad8-42f3-ade3-1c3397456c9f",
   "metadata": {
    "ExecuteTime": {
     "end_time": "2024-07-07T23:13:22.447361Z",
     "start_time": "2024-07-07T23:13:22.347577Z"
    }
   },
   "source": [
    "def show_size_plot():\n",
    "    data = pd.read_csv('Metrics/size_precision.csv')\n",
    "    x = data['Size'].values\n",
    "    y1 = data['Accuracy'].values\n",
    "    y2 = data['Pneumonia precision'].values\n",
    "    y3 = data['Normal Precision'].values\n",
    "    max_normal = y3.argmax()\n",
    "    max_pneumonia = y2.argmax()\n",
    "    max_precision = y2.argmax()\n",
    "    plt.figure(figsize=(10, 6))\n",
    "    plt.plot(x, y1, label=f'Global Accuracy(Max: {max_precision:.2f})', marker='o', linestyle='-')\n",
    "    plt.plot(x, y2, label=f'Pneumonia Precision(Max: {max_pneumonia:.2f})', marker='o', linestyle='--')\n",
    "    plt.plot(x, y3, label=f'Normal Precision(Max: {max_normal:.2f})', marker='o', linestyle=':')\n",
    "\n",
    "    plt.scatter(x[max_normal], y3[max_normal], color='green', s=100, edgecolors='black',\n",
    "                label='Max Normal Precision')\n",
    "    plt.scatter(x[max_pneumonia], y2[max_pneumonia], color='red', s=100, edgecolors='black',\n",
    "                label='Max Pneumonia Precision')\n",
    "    plt.scatter(x[max_precision], y1[max_precision], color='blue', s=100, edgecolors='black',\n",
    "                label='Max Precision')\n",
    "    plt.xlabel('Size')\n",
    "    plt.ylabel('%precision')\n",
    "    plt.title('Precision by Image Size')\n",
    "    plt.legend()\n",
    "    plt.grid(True)\n",
    "    plt.show()\n",
    "\n",
    "\n",
    "show_size_plot()"
   ],
   "outputs": [
    {
     "data": {
      "text/plain": [
       "<matplotlib.figure.Figure at 0x7f7ef3573208>"
      ],
      "image/png": "[encoded data removed]"
     },
     "metadata": {
      "needs_background": "light"
     },
     "output_type": "display_data"
    }
   ],
   "execution_count": 18
  },
  {
   "cell_type": "markdown",
   "id": "fe6420552fe8c18e",
   "metadata": {},
   "source": [
    "Il est aussi possible de tester les images de validation si besoin à partir modèle pour savoir si elles sont justes ou non."
   ]
  },
  {
   "cell_type": "code",
   "execution_count": null,
   "id": "a377757cc5af9118",
   "metadata": {},
   "outputs": [],
   "source": [
    "@timing_function\n",
    "def predict_function(image_path, model):\n",
    "    print(\"Starting predicting model for the picture at\", image_path)\n",
    "    image = process_new_image(image_path)\n",
    "    prediction = model.predict([image])\n",
    "    print(\"Predicted Class:\", \"Pneumonia\" if prediction[0] == 1 else \"Normal\")\n",
    "    return prediction[0]\n",
    "\n",
    "def predict_folder(folder_path, model):\n",
    "    \"\"\"\n",
    "    Evaluates all images in a specified folder using a trained model, checks if predictions match the labels derived from file names.\n",
    "    \n",
    "    :param folder_path: Path to the folder containing the test images.\n",
    "    :param model: Trained machine learning model.\n",
    "    :return: None\n",
    "    \"\"\"\n",
    "    correct_predictions = 0\n",
    "    total_images = 0\n",
    "    for filename in os.listdir(folder_path):\n",
    "        image_path = os.path.join(folder_path, filename)\n",
    "        print(f\"Processing image: {filename}\")\n",
    "        image = process_new_image(image_path)\n",
    "        prediction = model.predict([image])\n",
    "        predicted_label = \"Pneumonia\" if prediction[0] == 1 else \"Normal\"\n",
    "        print(\"Predicted Class:\", predicted_label)\n",
    "        actual_label = \"Normal\" if 'normal' in filename.lower() else \"Pneumonia\"\n",
    "        if predicted_label.lower() == actual_label.lower():\n",
    "            correct_predictions += 1\n",
    "        else:\n",
    "            print(f\"Mismatch found: File {filename} predicted as {predicted_label} but is {actual_label}\")\n",
    "        total_images += 1\n",
    "    accuracy = correct_predictions / total_images\n",
    "    print(f\"Accuracy: {accuracy:.2f} ({correct_predictions}/{total_images} correct)\")\n"
   ]
  },
  {
   "cell_type": "markdown",
   "id": "5a928069e8c1f86f",
   "metadata": {},
   "source": [
    "### Les limites du KNN\n",
    "Le KNN est une méthode simple et efficace, qui fonctionne bien avec un petit nombre de données et lorsque la relation entre les attributs est assez complexe pour ne pas être bien capturée par des modèles linéaires. Cependant, il présente quelques limites à d'autres méthodes avancées :\n",
    "\n",
    "* Scalabilité : KNN peut être très lent avec de grandes bases de données, car il doit calculer la distance entre le point cible et chaque point de données existant. Plus on prend de voisins et plus, on s'expose à un potentiel mauvais voisin. \n",
    "* Dimensionnalité : KNN voit sa performance diminue rapidement à mesure que le nombre de dimensions (caractéristiques) des données augmente. Dans notre cas où on prend des images avec des pixels et on en fait des matrices, c'est d'autant plus important. Prendre des grandes images est beaucoup plus complexe et demande beaucoup plus de performances de la part de la machine. C'est les cas de toutes les méthodes, mais lors de l'utilisation avec le knn pour l'optimisation, on passait de 48s pour 68px à 226 pour 150 ce qui équivaut au triple.\n",
    "* Sensibilité au bruit : Étant donné que KNN prend des décisions de classement basées uniquement sur les voisins les plus proches, il peut être sensible au bruit dans les données d'entraînement. Une fausse donnée représente un faux-voisin. Etant donné qu'on en a un nombre limité cela peut vite fausser tous les résultats. \n",
    "* Choix des paramètres : Le choix de la métrique de distance et le nombre de voisins (k) peuvent avoir un impact significatif sur les performances du modèle, nécessitant souvent une recherche approfondie via des méthodes comme la validation croisée. C'est ce que nous avions vu dans la partie de cross-validation du modèle des KNN \n",
    "<br>\n",
    "\n",
    "Pour ce qui est des cas bacterial et en provenance de virus le modèle était beaucoup trop imprécis et confondait les cas de virus et de bactérie. "
   ]
  },
  {
   "cell_type": "code",
   "execution_count": null,
   "id": "99bd5dd7-4699-42e2-ae33-808bd6506044",
   "metadata": {},
   "outputs": [],
   "source": [
    "def k_nearest_neighbors():\n",
    "    knn = cross_validation()\n",
    "    # Test the model\n",
    "    accuracy, report = test_predict_model(knn, x_test, y_test)\n",
    "    # to add to a previous file modify the w into a\n",
    "    with open('Metrics/Knn_metrics.csv', 'w', newline='') as file:\n",
    "        writer = csv.writer(file)\n",
    "        writer.writerow(['Metric', 'Value'])\n",
    "        writer.writerow(['Test Accuracy', f\"{accuracy:.2f}\"])\n",
    "        writer.writerow([])\n",
    "        writer.writerow(['Detailed report'])\n",
    "        writer.writerow(['Class', 'Precision', 'Recall', 'F1-Score', 'Support'])\n",
    "        for key, metrics in report.items():\n",
    "            if key in [\"Normal\", \"Pneumonia\"]:\n",
    "                writer.writerow([key, f\"{metrics['precision']:.2f}\", f\"{metrics['recall']:.2f}\",\n",
    "                                 f\"{metrics['f1-score']:.2f}\", metrics['support']])\n"
   ]
  }
 ],
 "metadata": {
  "kernelspec": {
   "display_name": "Python 3",
   "language": "python",
   "name": "python3"
  },
  "language_info": {
   "codemirror_mode": {
    "name": "ipython",
    "version": 3
   },
   "file_extension": ".py",
   "mimetype": "text/x-python",
   "name": "python",
   "nbconvert_exporter": "python",
   "pygments_lexer": "ipython3",
   "version": "3.6.9"
  }
 },
 "nbformat": 4,
 "nbformat_minor": 5
}
